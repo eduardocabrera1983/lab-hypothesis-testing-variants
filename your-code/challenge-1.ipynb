{
 "cells": [
  {
   "cell_type": "markdown",
   "metadata": {},
   "source": [
    "# Challenge 1 - T-test\n",
    "\n",
    "In statistics, t-test is used to test if two data samples have a significant difference between their means. There are two types of t-test:\n",
    "\n",
    "* **Student's t-test** (a.k.a. independent or uncorrelated t-test). This type of t-test is to compare the samples of **two independent populations** (e.g. test scores of students in two different classes). `scipy` provides the [`ttest_ind`](https://docs.scipy.org/doc/scipy-0.15.1/reference/generated/scipy.stats.ttest_ind.html) method to conduct student's t-test.\n",
    "\n",
    "* **Paired t-test** (a.k.a. dependent or correlated t-test). This type of t-test is to compare the samples of **the same population** (e.g. scores of different tests of students in the same class). `scipy` provides the [`ttest_re`](https://docs.scipy.org/doc/scipy-0.15.1/reference/generated/scipy.stats.ttest_rel.html) method to conduct paired t-test.\n",
    "\n",
    "Both types of t-tests return a number which is called the **p-value**. If p-value is below 0.05, we can confidently declare the null-hypothesis is rejected and the difference is significant. If p-value is between 0.05 and 0.1, we may also declare the null-hypothesis is rejected but we are not highly confident. If p-value is above 0.1 we do not reject the null-hypothesis.\n",
    "\n",
    "Read more about the t-test in [this article](http://b.link/test50) and [this Quora](http://b.link/unpaired97). Make sure you understand when to use which type of t-test. "
   ]
  },
  {
   "cell_type": "code",
   "execution_count": 1,
   "metadata": {},
   "outputs": [],
   "source": [
    "# Import libraries\n",
    "import pandas as pd"
   ]
  },
  {
   "cell_type": "markdown",
   "metadata": {},
   "source": [
    "#### Import dataset\n",
    "\n",
    "In this challenge we will work on the Pokemon dataset. The goal is to test whether different groups of pokemon (e.g. Legendary vs Normal, Generation 1 vs 2, single-type vs dual-type) have different stats (e.g. HP, Attack, Defense, etc.)."
   ]
  },
  {
   "cell_type": "code",
   "execution_count": 3,
   "metadata": {},
   "outputs": [
    {
     "data": {
      "application/vnd.microsoft.datawrangler.viewer.v0+json": {
       "columns": [
        {
         "name": "index",
         "rawType": "int64",
         "type": "integer"
        },
        {
         "name": "#",
         "rawType": "int64",
         "type": "integer"
        },
        {
         "name": "Name",
         "rawType": "object",
         "type": "string"
        },
        {
         "name": "Type 1",
         "rawType": "object",
         "type": "string"
        },
        {
         "name": "Type 2",
         "rawType": "object",
         "type": "unknown"
        },
        {
         "name": "Total",
         "rawType": "int64",
         "type": "integer"
        },
        {
         "name": "HP",
         "rawType": "int64",
         "type": "integer"
        },
        {
         "name": "Attack",
         "rawType": "int64",
         "type": "integer"
        },
        {
         "name": "Defense",
         "rawType": "int64",
         "type": "integer"
        },
        {
         "name": "Sp. Atk",
         "rawType": "int64",
         "type": "integer"
        },
        {
         "name": "Sp. Def",
         "rawType": "int64",
         "type": "integer"
        },
        {
         "name": "Speed",
         "rawType": "int64",
         "type": "integer"
        },
        {
         "name": "Generation",
         "rawType": "int64",
         "type": "integer"
        },
        {
         "name": "Legendary",
         "rawType": "bool",
         "type": "boolean"
        }
       ],
       "conversionMethod": "pd.DataFrame",
       "ref": "fe8b8422-e45d-421b-a7f0-75e085ec8128",
       "rows": [
        [
         "649",
         "588",
         "Karrablast",
         "Bug",
         null,
         "315",
         "50",
         "75",
         "45",
         "40",
         "45",
         "60",
         "5",
         "False"
        ],
        [
         "19",
         "15",
         "BeedrillMega Beedrill",
         "Bug",
         "Poison",
         "495",
         "65",
         "150",
         "40",
         "15",
         "80",
         "145",
         "1",
         "False"
        ],
        [
         "170",
         "156",
         "Quilava",
         "Fire",
         null,
         "405",
         "58",
         "64",
         "58",
         "80",
         "65",
         "80",
         "2",
         "False"
        ],
        [
         "772",
         "702",
         "Dedenne",
         "Electric",
         "Fairy",
         "431",
         "67",
         "58",
         "57",
         "81",
         "67",
         "101",
         "6",
         "False"
        ],
        [
         "172",
         "158",
         "Totodile",
         "Water",
         null,
         "314",
         "50",
         "65",
         "64",
         "44",
         "48",
         "43",
         "2",
         "False"
        ],
        [
         "379",
         "347",
         "Anorith",
         "Rock",
         "Bug",
         "355",
         "45",
         "95",
         "50",
         "40",
         "50",
         "75",
         "3",
         "False"
        ],
        [
         "585",
         "526",
         "Gigalith",
         "Rock",
         null,
         "515",
         "85",
         "135",
         "130",
         "60",
         "80",
         "25",
         "5",
         "False"
        ],
        [
         "169",
         "155",
         "Cyndaquil",
         "Fire",
         null,
         "309",
         "39",
         "52",
         "43",
         "60",
         "50",
         "65",
         "2",
         "False"
        ],
        [
         "656",
         "595",
         "Joltik",
         "Bug",
         "Electric",
         "319",
         "50",
         "47",
         "50",
         "57",
         "50",
         "65",
         "5",
         "False"
        ],
        [
         "407",
         "372",
         "Shelgon",
         "Dragon",
         null,
         "420",
         "65",
         "95",
         "100",
         "60",
         "50",
         "50",
         "3",
         "False"
        ]
       ],
       "shape": {
        "columns": 13,
        "rows": 10
       }
      },
      "text/html": [
       "<div>\n",
       "<style scoped>\n",
       "    .dataframe tbody tr th:only-of-type {\n",
       "        vertical-align: middle;\n",
       "    }\n",
       "\n",
       "    .dataframe tbody tr th {\n",
       "        vertical-align: top;\n",
       "    }\n",
       "\n",
       "    .dataframe thead th {\n",
       "        text-align: right;\n",
       "    }\n",
       "</style>\n",
       "<table border=\"1\" class=\"dataframe\">\n",
       "  <thead>\n",
       "    <tr style=\"text-align: right;\">\n",
       "      <th></th>\n",
       "      <th>#</th>\n",
       "      <th>Name</th>\n",
       "      <th>Type 1</th>\n",
       "      <th>Type 2</th>\n",
       "      <th>Total</th>\n",
       "      <th>HP</th>\n",
       "      <th>Attack</th>\n",
       "      <th>Defense</th>\n",
       "      <th>Sp. Atk</th>\n",
       "      <th>Sp. Def</th>\n",
       "      <th>Speed</th>\n",
       "      <th>Generation</th>\n",
       "      <th>Legendary</th>\n",
       "    </tr>\n",
       "  </thead>\n",
       "  <tbody>\n",
       "    <tr>\n",
       "      <th>649</th>\n",
       "      <td>588</td>\n",
       "      <td>Karrablast</td>\n",
       "      <td>Bug</td>\n",
       "      <td>NaN</td>\n",
       "      <td>315</td>\n",
       "      <td>50</td>\n",
       "      <td>75</td>\n",
       "      <td>45</td>\n",
       "      <td>40</td>\n",
       "      <td>45</td>\n",
       "      <td>60</td>\n",
       "      <td>5</td>\n",
       "      <td>False</td>\n",
       "    </tr>\n",
       "    <tr>\n",
       "      <th>19</th>\n",
       "      <td>15</td>\n",
       "      <td>BeedrillMega Beedrill</td>\n",
       "      <td>Bug</td>\n",
       "      <td>Poison</td>\n",
       "      <td>495</td>\n",
       "      <td>65</td>\n",
       "      <td>150</td>\n",
       "      <td>40</td>\n",
       "      <td>15</td>\n",
       "      <td>80</td>\n",
       "      <td>145</td>\n",
       "      <td>1</td>\n",
       "      <td>False</td>\n",
       "    </tr>\n",
       "    <tr>\n",
       "      <th>170</th>\n",
       "      <td>156</td>\n",
       "      <td>Quilava</td>\n",
       "      <td>Fire</td>\n",
       "      <td>NaN</td>\n",
       "      <td>405</td>\n",
       "      <td>58</td>\n",
       "      <td>64</td>\n",
       "      <td>58</td>\n",
       "      <td>80</td>\n",
       "      <td>65</td>\n",
       "      <td>80</td>\n",
       "      <td>2</td>\n",
       "      <td>False</td>\n",
       "    </tr>\n",
       "    <tr>\n",
       "      <th>772</th>\n",
       "      <td>702</td>\n",
       "      <td>Dedenne</td>\n",
       "      <td>Electric</td>\n",
       "      <td>Fairy</td>\n",
       "      <td>431</td>\n",
       "      <td>67</td>\n",
       "      <td>58</td>\n",
       "      <td>57</td>\n",
       "      <td>81</td>\n",
       "      <td>67</td>\n",
       "      <td>101</td>\n",
       "      <td>6</td>\n",
       "      <td>False</td>\n",
       "    </tr>\n",
       "    <tr>\n",
       "      <th>172</th>\n",
       "      <td>158</td>\n",
       "      <td>Totodile</td>\n",
       "      <td>Water</td>\n",
       "      <td>NaN</td>\n",
       "      <td>314</td>\n",
       "      <td>50</td>\n",
       "      <td>65</td>\n",
       "      <td>64</td>\n",
       "      <td>44</td>\n",
       "      <td>48</td>\n",
       "      <td>43</td>\n",
       "      <td>2</td>\n",
       "      <td>False</td>\n",
       "    </tr>\n",
       "    <tr>\n",
       "      <th>379</th>\n",
       "      <td>347</td>\n",
       "      <td>Anorith</td>\n",
       "      <td>Rock</td>\n",
       "      <td>Bug</td>\n",
       "      <td>355</td>\n",
       "      <td>45</td>\n",
       "      <td>95</td>\n",
       "      <td>50</td>\n",
       "      <td>40</td>\n",
       "      <td>50</td>\n",
       "      <td>75</td>\n",
       "      <td>3</td>\n",
       "      <td>False</td>\n",
       "    </tr>\n",
       "    <tr>\n",
       "      <th>585</th>\n",
       "      <td>526</td>\n",
       "      <td>Gigalith</td>\n",
       "      <td>Rock</td>\n",
       "      <td>NaN</td>\n",
       "      <td>515</td>\n",
       "      <td>85</td>\n",
       "      <td>135</td>\n",
       "      <td>130</td>\n",
       "      <td>60</td>\n",
       "      <td>80</td>\n",
       "      <td>25</td>\n",
       "      <td>5</td>\n",
       "      <td>False</td>\n",
       "    </tr>\n",
       "    <tr>\n",
       "      <th>169</th>\n",
       "      <td>155</td>\n",
       "      <td>Cyndaquil</td>\n",
       "      <td>Fire</td>\n",
       "      <td>NaN</td>\n",
       "      <td>309</td>\n",
       "      <td>39</td>\n",
       "      <td>52</td>\n",
       "      <td>43</td>\n",
       "      <td>60</td>\n",
       "      <td>50</td>\n",
       "      <td>65</td>\n",
       "      <td>2</td>\n",
       "      <td>False</td>\n",
       "    </tr>\n",
       "    <tr>\n",
       "      <th>656</th>\n",
       "      <td>595</td>\n",
       "      <td>Joltik</td>\n",
       "      <td>Bug</td>\n",
       "      <td>Electric</td>\n",
       "      <td>319</td>\n",
       "      <td>50</td>\n",
       "      <td>47</td>\n",
       "      <td>50</td>\n",
       "      <td>57</td>\n",
       "      <td>50</td>\n",
       "      <td>65</td>\n",
       "      <td>5</td>\n",
       "      <td>False</td>\n",
       "    </tr>\n",
       "    <tr>\n",
       "      <th>407</th>\n",
       "      <td>372</td>\n",
       "      <td>Shelgon</td>\n",
       "      <td>Dragon</td>\n",
       "      <td>NaN</td>\n",
       "      <td>420</td>\n",
       "      <td>65</td>\n",
       "      <td>95</td>\n",
       "      <td>100</td>\n",
       "      <td>60</td>\n",
       "      <td>50</td>\n",
       "      <td>50</td>\n",
       "      <td>3</td>\n",
       "      <td>False</td>\n",
       "    </tr>\n",
       "  </tbody>\n",
       "</table>\n",
       "</div>"
      ],
      "text/plain": [
       "       #                   Name    Type 1    Type 2  Total  HP  Attack  \\\n",
       "649  588             Karrablast       Bug       NaN    315  50      75   \n",
       "19    15  BeedrillMega Beedrill       Bug    Poison    495  65     150   \n",
       "170  156                Quilava      Fire       NaN    405  58      64   \n",
       "772  702                Dedenne  Electric     Fairy    431  67      58   \n",
       "172  158               Totodile     Water       NaN    314  50      65   \n",
       "379  347                Anorith      Rock       Bug    355  45      95   \n",
       "585  526               Gigalith      Rock       NaN    515  85     135   \n",
       "169  155              Cyndaquil      Fire       NaN    309  39      52   \n",
       "656  595                 Joltik       Bug  Electric    319  50      47   \n",
       "407  372                Shelgon    Dragon       NaN    420  65      95   \n",
       "\n",
       "     Defense  Sp. Atk  Sp. Def  Speed  Generation  Legendary  \n",
       "649       45       40       45     60           5      False  \n",
       "19        40       15       80    145           1      False  \n",
       "170       58       80       65     80           2      False  \n",
       "772       57       81       67    101           6      False  \n",
       "172       64       44       48     43           2      False  \n",
       "379       50       40       50     75           3      False  \n",
       "585      130       60       80     25           5      False  \n",
       "169       43       60       50     65           2      False  \n",
       "656       50       57       50     65           5      False  \n",
       "407      100       60       50     50           3      False  "
      ]
     },
     "execution_count": 3,
     "metadata": {},
     "output_type": "execute_result"
    }
   ],
   "source": [
    "# Your code here:\n",
    "pokemon_ds = pd.read_csv('pokemon.csv')\n",
    "pokemon_ds.sample(10)"
   ]
  },
  {
   "cell_type": "markdown",
   "metadata": {},
   "source": [
    "#### First we want to define a function with which we can test the means of a feature set of two samples. \n",
    "\n",
    "In the next cell you'll see the annotations of the Python function that explains what this function does and its arguments and returned value. This type of annotation is called **docstring** which is a convention used among Python developers. The docstring convention allows developers to write consistent tech documentations for their codes so that others can read. It also allows some websites to automatically parse the docstrings and display user-friendly documentations.\n",
    "\n",
    "Follow the specifications of the docstring and complete the function."
   ]
  },
  {
   "cell_type": "code",
   "execution_count": 8,
   "metadata": {},
   "outputs": [],
   "source": [
    "def t_test_features(s1, s2, features=['HP', 'Attack', 'Defense', 'Sp. Atk', 'Sp. Def', 'Speed', 'Total']):\n",
    "    \"\"\"Test means of a feature set of two samples\n",
    "    \n",
    "    Args:\n",
    "        s1 (dataframe): sample 1\n",
    "        s2 (dataframe): sample 2\n",
    "        features (list): an array of features to test\n",
    "    \n",
    "    Returns:\n",
    "        dict: a dictionary of t-test scores for each feature where the feature name is the key and the p-value is the value\n",
    "    \"\"\"\n",
    "    results = {}\n",
    "\n",
    "    # Your code here\n",
    "    \n",
    "    from scipy import stats\n",
    "    \n",
    "    # Perform t-test for each feature\n",
    "    for feature in features:\n",
    "        # Extract the feature values from both samples\n",
    "        s1_values = s1[feature].dropna()  # Remove NaN values if any\n",
    "        s2_values = s2[feature].dropna()\n",
    "        \n",
    "        # Perform independent two-sample t-test\n",
    "        t_stat, p_value = stats.ttest_ind(s1_values, s2_values, equal_var=False)\n",
    "        \n",
    "        # Store the p-value in the results dictionary\n",
    "        results[feature] = p_value\n",
    "        \n",
    "    return results\n"
   ]
  },
  {
   "cell_type": "markdown",
   "metadata": {},
   "source": [
    "#### Using the `t_test_features` function, conduct t-test for Lengendary vs non-Legendary pokemons.\n",
    "\n",
    "*Hint: your output should look like below:*\n",
    "\n",
    "```\n",
    "{'HP': 1.0026911708035284e-13,\n",
    " 'Attack': 2.520372449236646e-16,\n",
    " 'Defense': 4.8269984949193316e-11,\n",
    " 'Sp. Atk': 1.5514614112239812e-21,\n",
    " 'Sp. Def': 2.2949327864052826e-15,\n",
    " 'Speed': 1.049016311882451e-18,\n",
    " 'Total': 9.357954335957446e-47}\n",
    " ```"
   ]
  },
  {
   "cell_type": "code",
   "execution_count": 10,
   "metadata": {},
   "outputs": [
    {
     "name": "stdout",
     "output_type": "stream",
     "text": [
      "{'HP': np.float64(1.0026911708035284e-13), 'Attack': np.float64(2.520372449236646e-16), 'Defense': np.float64(4.826998494919331e-11), 'Sp. Atk': np.float64(1.5514614112239816e-21), 'Sp. Def': np.float64(2.2949327864052826e-15), 'Speed': np.float64(1.0490163118824507e-18), 'Total': np.float64(9.357954335957444e-47)}\n"
     ]
    }
   ],
   "source": [
    "# Your code here\n",
    "t_test_results = t_test_features(pokemon_ds[pokemon_ds['Legendary'] == True], pokemon_ds[pokemon_ds['Legendary'] == False])\n",
    "print(t_test_results)"
   ]
  },
  {
   "cell_type": "markdown",
   "metadata": {},
   "source": [
    "#### From the test results above, what conclusion can you make? Do Legendary and non-Legendary pokemons have significantly different stats on each feature?"
   ]
  },
  {
   "cell_type": "code",
   "execution_count": 12,
   "metadata": {},
   "outputs": [],
   "source": [
    "# Your comment here\n",
    "#Yes, they are statistically significant. The p-values are all less than 0.05, indicating that there are significant differences in the means of the features between Legendary and non-Legendary Pokémon.\n",
    "\n"
   ]
  },
  {
   "cell_type": "markdown",
   "metadata": {},
   "source": [
    "#### Next, conduct t-test for Generation 1 and Generation 2 pokemons."
   ]
  },
  {
   "cell_type": "code",
   "execution_count": 14,
   "metadata": {},
   "outputs": [
    {
     "name": "stdout",
     "output_type": "stream",
     "text": [
      "{'HP': np.float64(0.1455169783421963), 'Attack': np.float64(0.24721958967217725), 'Defense': np.float64(0.5677711011725426), 'Sp. Atk': np.float64(0.12332165977104388), 'Sp. Def': np.float64(0.18829872292645752), 'Speed': np.float64(0.00239265937312135), 'Total': np.float64(0.5631377907941676)}\n"
     ]
    }
   ],
   "source": [
    "# Your code here\n",
    "t_test_results = t_test_features(pokemon_ds[pokemon_ds['Generation'] == 1], pokemon_ds[pokemon_ds['Generation'] == 2])\n",
    "print(t_test_results)"
   ]
  },
  {
   "cell_type": "markdown",
   "metadata": {},
   "source": [
    "#### What conclusions can you make?"
   ]
  },
  {
   "cell_type": "code",
   "execution_count": 15,
   "metadata": {},
   "outputs": [],
   "source": [
    "# Your comment here\n",
    "# Only Speed is statistically significant. The p-value for Speed is less than 0.05, indicating a significant difference in the means of Speed between Generation 1 and Generation 2 Pokémon. The other features do not show significant differences."
   ]
  },
  {
   "cell_type": "markdown",
   "metadata": {},
   "source": [
    "#### Compare pokemons who have single type vs those having two types."
   ]
  },
  {
   "cell_type": "code",
   "execution_count": 16,
   "metadata": {},
   "outputs": [
    {
     "name": "stdout",
     "output_type": "stream",
     "text": [
      "{'HP': np.float64(0.11314389855379413), 'Attack': np.float64(0.00014932578145948305), 'Defense': np.float64(2.7978540411514693e-08), 'Sp. Atk': np.float64(0.00013876216585667907), 'Sp. Def': np.float64(0.00010730610934512779), 'Speed': np.float64(0.024217032818190935), 'Total': np.float64(1.1157056505229964e-07)}\n"
     ]
    }
   ],
   "source": [
    "# Your code here\n",
    "single_type_pokemon = pokemon_ds[pokemon_ds['Type 2'].isna()]\n",
    "dual_type_pokemon = pokemon_ds[pokemon_ds['Type 2'].notna()]\n",
    "\n",
    "# Run t-test to compare stats between single-type and dual-type Pokemon\n",
    "t_test_results = t_test_features(single_type_pokemon, dual_type_pokemon)\n",
    "\n",
    "print(t_test_results)"
   ]
  },
  {
   "cell_type": "markdown",
   "metadata": {},
   "source": [
    "#### What conclusions can you make?"
   ]
  },
  {
   "cell_type": "code",
   "execution_count": 17,
   "metadata": {},
   "outputs": [],
   "source": [
    "# Your comment here\n",
    "# HP is the only feature that is not satitstically signifficant. The p-value for HP is greater than 0.05, indicating that there is no significant difference in the means of HP between single-type and dual-type Pokémon. The other features show significant differences."
   ]
  },
  {
   "cell_type": "markdown",
   "metadata": {},
   "source": [
    "#### Now, we want to compare whether there are significant differences of `Attack` vs `Defense`  and  `Sp. Atk` vs `Sp. Def` of all pokemons. Please write your code below.\n",
    "\n",
    "*Hint: are you comparing different populations or the same population?*"
   ]
  },
  {
   "cell_type": "code",
   "execution_count": null,
   "metadata": {},
   "outputs": [],
   "source": [
    "# Your code here\n",
    "# Import necessary libraries\n",
    "from scipy import stats\n",
    "import numpy as np\n",
    "import matplotlib.pyplot as plt\n",
    "\n",
    "# First comparison: Attack vs Defense\n",
    "attack_values = pokemon_ds['Attack'].dropna()\n",
    "defense_values = pokemon_ds['Defense'].dropna()\n",
    "\n",
    "# Ensure we're comparing the same Pokemon (removing any with missing values in either stat)\n",
    "valid_indices = pokemon_ds[['Attack', 'Defense']].dropna().index\n",
    "attack_paired = pokemon_ds.loc[valid_indices, 'Attack']\n",
    "defense_paired = pokemon_ds.loc[valid_indices, 'Defense']\n",
    "\n",
    "# Perform paired t-test for Attack vs Defense\n",
    "t_stat_atk_def, p_value_atk_def = stats.ttest_rel(attack_paired, defense_paired)"
   ]
  },
  {
   "cell_type": "code",
   "execution_count": 22,
   "metadata": {},
   "outputs": [
    {
     "name": "stdout",
     "output_type": "stream",
     "text": [
      "Paired t-test results:\n",
      "Attack vs Defense: t-statistic = 4.3256, p-value = 0.0000171403\n",
      "Result: Significant difference\n",
      "Mean Attack: 79.00, Mean Defense: 73.84\n",
      "\n",
      "Sp. Atk vs Sp. Def: t-statistic = 0.8540, p-value = 0.3934\n",
      "Result: Not significant difference\n",
      "Mean Sp. Atk: 72.82, Mean Sp. Def: 71.90\n"
     ]
    }
   ],
   "source": [
    "# Second comparison: Sp. Atk vs Sp. Def\n",
    "sp_atk_values = pokemon_ds['Sp. Atk'].dropna()\n",
    "sp_def_values = pokemon_ds['Sp. Def'].dropna()\n",
    "\n",
    "# Ensure we're comparing the same Pokemon (removing any with missing values in either stat)\n",
    "valid_indices_sp = pokemon_ds[['Sp. Atk', 'Sp. Def']].dropna().index\n",
    "sp_atk_paired = pokemon_ds.loc[valid_indices_sp, 'Sp. Atk']\n",
    "sp_def_paired = pokemon_ds.loc[valid_indices_sp, 'Sp. Def']\n",
    "\n",
    "# Perform paired t-test for Sp. Atk vs Sp. Def\n",
    "t_stat_sp_atk_sp_def, p_value_sp_atk_sp_def = stats.ttest_rel(sp_atk_paired, sp_def_paired)\n",
    "\n",
    "# Display results\n",
    "print(\"Paired t-test results:\")\n",
    "print(f\"Attack vs Defense: t-statistic = {t_stat_atk_def:.4f}, p-value = {p_value_atk_def:.10f}\")\n",
    "significance_atk_def = \"Significant\" if p_value_atk_def < 0.05 else \"Not significant\"\n",
    "print(f\"Result: {significance_atk_def} difference\")\n",
    "print(f\"Mean Attack: {attack_paired.mean():.2f}, Mean Defense: {defense_paired.mean():.2f}\")\n",
    "print()\n",
    "print(f\"Sp. Atk vs Sp. Def: t-statistic = {t_stat_sp_atk_sp_def:.4f}, p-value = {p_value_sp_atk_sp_def:.4f}\")\n",
    "significance_sp = \"Significant\" if p_value_sp_atk_sp_def < 0.05 else \"Not significant\"\n",
    "print(f\"Result: {significance_sp} difference\")\n",
    "print(f\"Mean Sp. Atk: {sp_atk_paired.mean():.2f}, Mean Sp. Def: {sp_def_paired.mean():.2f}\")\n"
   ]
  },
  {
   "cell_type": "markdown",
   "metadata": {},
   "source": [
    "#### What conclusions can you make?"
   ]
  },
  {
   "cell_type": "code",
   "execution_count": 23,
   "metadata": {},
   "outputs": [],
   "source": [
    "# Your comment here\n",
    "# The t-test results show that there is a significant different between Attack and Defense stats with a low p-value, and there is not signifcant difference between special attack and special defense with a p-value > 0.05."
   ]
  }
 ],
 "metadata": {
  "kernelspec": {
   "display_name": "Python 3",
   "language": "python",
   "name": "python3"
  },
  "language_info": {
   "codemirror_mode": {
    "name": "ipython",
    "version": 3
   },
   "file_extension": ".py",
   "mimetype": "text/x-python",
   "name": "python",
   "nbconvert_exporter": "python",
   "pygments_lexer": "ipython3",
   "version": "3.13.3"
  }
 },
 "nbformat": 4,
 "nbformat_minor": 2
}
