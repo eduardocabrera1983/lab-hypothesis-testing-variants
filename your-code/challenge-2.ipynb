{
 "cells": [
  {
   "cell_type": "markdown",
   "metadata": {},
   "source": [
    "# Challenge 2 - ANOVA\n",
    "\n",
    "In statistics, **Analysis of Variance (ANOVA)** is also used to analyze the differences among group means. The difference between t-test and ANOVA is the former is ued to compare two groups whereas the latter is used to compare three or more groups. [Read more about the difference between t-test and ANOVA](http://b.link/anova24).\n",
    "\n",
    "From the ANOVA test, you receive two numbers. The first number is called the **F-value** which indicates whether your null-hypothesis can be rejected. The critical F-value that rejects the null-hypothesis varies according to the number of total subjects and the number of subject groups in your experiment. In [this table](http://b.link/eda14) you can find the critical values of the F distribution. **If you are confused by the massive F-distribution table, don't worry. Skip F-value for now and study it at a later time. In this challenge you only need to look at the p-value.**\n",
    "\n",
    "The p-value is another number yielded by ANOVA which already takes the number of total subjects and the number of experiment groups into consideration. **Typically if your p-value is less than 0.05, you can declare the null-hypothesis is rejected.**\n",
    "\n",
    "In this challenge, we want to understand whether there are significant differences among various types of pokemons' `Total` value, i.e. Grass vs Poison vs Fire vs Dragon... There are many types of pokemons which makes it a perfect use case for ANOVA."
   ]
  },
  {
   "cell_type": "code",
   "execution_count": 1,
   "metadata": {},
   "outputs": [],
   "source": [
    "# Import libraries\n",
    "import pandas as pd"
   ]
  },
  {
   "cell_type": "code",
   "execution_count": 4,
   "metadata": {},
   "outputs": [
    {
     "name": "stdout",
     "output_type": "stream",
     "text": [
      "       #                 Name    Type 1   Type 2  Total   HP  Attack  Defense  \\\n",
      "239  221            Piloswine       Ice   Ground    450  100     100       80   \n",
      "364  333               Swablu    Normal   Flying    310   45      40       60   \n",
      "401  366             Clamperl     Water      NaN    345   35      64       85   \n",
      "65    60              Poliwag     Water      NaN    300   40      50       40   \n",
      "747  678       MeowsticFemale   Psychic      NaN    466   74      48       76   \n",
      "604  544           Whirlipede       Bug   Poison    360   40      55       99   \n",
      "86    80              Slowbro     Water  Psychic    490   95      75      110   \n",
      "484  436              Bronzor     Steel  Psychic    300   57      24       86   \n",
      "535  479       RotomFan Rotom  Electric   Flying    520   50      65      107   \n",
      "460  413  WormadamTrash Cloak       Bug    Steel    424   60      69       95   \n",
      "\n",
      "     Sp. Atk  Sp. Def  Speed  Generation  Legendary  \n",
      "239       60       60     50           2      False  \n",
      "364       40       75     50           3      False  \n",
      "401       74       55     32           3      False  \n",
      "65        40       40     90           1      False  \n",
      "747       83       81    104           6      False  \n",
      "604       40       79     47           5      False  \n",
      "86       100       80     30           1      False  \n",
      "484       24       86     23           4      False  \n",
      "535      105      107     86           4      False  \n",
      "460       69       95     36           4      False  \n"
     ]
    }
   ],
   "source": [
    "# Load the data:\n",
    "pokemon_ds = pd.read_csv('pokemon.csv')\n",
    "print(pokemon_ds.sample(10))"
   ]
  },
  {
   "cell_type": "markdown",
   "metadata": {},
   "source": [
    "**To achieve our goal, we use three steps:**\n",
    "\n",
    "1. **Extract the unique values of the pokemon types.**\n",
    "\n",
    "1. **Select dataframes for each unique pokemon type.**\n",
    "\n",
    "1. **Conduct ANOVA analysis across the pokemon types.**"
   ]
  },
  {
   "cell_type": "markdown",
   "metadata": {},
   "source": [
    "#### First let's obtain the unique values of the pokemon types. These values should be extracted from Type 1 and Type 2 aggregated. Assign the unique values to a variable called `unique_types`.\n",
    "\n",
    "*Hint: the correct number of unique types is 19 including `NaN`. You can disregard `NaN` in next step.*"
   ]
  },
  {
   "cell_type": "code",
   "execution_count": 12,
   "metadata": {},
   "outputs": [
    {
     "data": {
      "text/plain": [
       "19"
      ]
     },
     "execution_count": 12,
     "metadata": {},
     "output_type": "execute_result"
    }
   ],
   "source": [
    "# Your code here\n",
    "unique_types = pd.concat([pokemon_ds['Type 1'], pokemon_ds['Type 2']]).unique()\n",
    "\n",
    "len(unique_types) # you should see 19"
   ]
  },
  {
   "cell_type": "markdown",
   "metadata": {},
   "source": [
    "#### Second we will create a list named `pokemon_totals` to contain the `Total` values of each unique type of pokemons.\n",
    "\n",
    "Why we use a list instead of a dictionary to store the pokemon `Total`? It's because ANOVA only tells us whether there is a significant difference of the group means but does not tell which group(s) are significantly different. Therefore, we don't need know which `Total` belongs to which pokemon type.\n",
    "\n",
    "*Hints:*\n",
    "\n",
    "* Loop through `unique_types` and append the selected type's `Total` to `pokemon_groups`.\n",
    "* Skip the `NaN` value in `unique_types`. `NaN` is a `float` variable which you can find out by using `type()`. The valid pokemon type values are all of the `str` type.\n",
    "* At the end, the length of your `pokemon_totals` should be 18."
   ]
  },
  {
   "cell_type": "code",
   "execution_count": 22,
   "metadata": {},
   "outputs": [
    {
     "name": "stdout",
     "output_type": "stream",
     "text": [
      "Number of valid types: 18\n"
     ]
    },
    {
     "data": {
      "text/plain": [
       "18"
      ]
     },
     "execution_count": 22,
     "metadata": {},
     "output_type": "execute_result"
    }
   ],
   "source": [
    "pokemon_totals = []\n",
    "\n",
    "# Filter unique_types to only include string types\n",
    "valid_types = [t for t in unique_types if isinstance(t, str)]\n",
    "print(f\"Number of valid types: {len(valid_types)}\")\n",
    "\n",
    "# Loop through valid types only\n",
    "for type in valid_types:\n",
    "    # Get Pokémon of this type (either as Type 1 or Type 2)\n",
    "    type_pokemon = pokemon_ds[(pokemon_ds['Type 1'] == type) | (pokemon_ds['Type 2'] == type)]\n",
    "    \n",
    "    # Get the Total values for these Pokémon and append them as a group to the list\n",
    "    totals = type_pokemon['Total'].tolist()\n",
    "    pokemon_totals.append(totals)\n",
    "\n",
    "len(pokemon_totals) # you should see 18"
   ]
  },
  {
   "cell_type": "markdown",
   "metadata": {},
   "source": [
    "#### Now we run ANOVA test on `pokemon_totals`.\n",
    "\n",
    "*Hints:*\n",
    "\n",
    "* To conduct ANOVA, you can use `scipy.stats.f_oneway()`. Here's the [reference](http://b.link/scipy44).\n",
    "\n",
    "* What if `f_oneway` throws an error because it does not accept `pokemon_totals` as a list? The trick is to add a `*` in front of `pokemon_totals`, e.g. `stats.f_oneway(*pokemon_groups)`. This trick breaks the list and supplies each list item as a parameter for `f_oneway`."
   ]
  },
  {
   "cell_type": "code",
   "execution_count": 24,
   "metadata": {},
   "outputs": [
    {
     "name": "stdout",
     "output_type": "stream",
     "text": [
      "F-statistic: 6.6175382960055344\n",
      "p-value: 2.6457458815984803e-15\n"
     ]
    }
   ],
   "source": [
    "# Your code here\n",
    "\n",
    "from scipy import stats\n",
    "\n",
    "# Run ANOVA test by unpacking the list of groups\n",
    "f_statistic, p_value = stats.f_oneway(*pokemon_totals)\n",
    "\n",
    "# Print the results\n",
    "print(f\"F-statistic: {f_statistic}\")\n",
    "print(f\"p-value: {p_value}\")\n",
    "\n"
   ]
  },
  {
   "cell_type": "markdown",
   "metadata": {},
   "source": [
    "#### Interpret the ANOVA test result. Is the difference significant?"
   ]
  },
  {
   "cell_type": "code",
   "execution_count": 25,
   "metadata": {},
   "outputs": [
    {
     "name": "stdout",
     "output_type": "stream",
     "text": [
      "Reject the null hypothesis. There is a significant difference in Total stats between Pokémon types.\n"
     ]
    }
   ],
   "source": [
    "# Your comment here\n",
    "\n",
    "alpha = 0.05\n",
    "if p_value < alpha:\n",
    "    print(\"Reject the null hypothesis. There is a significant difference in Total stats between Pokémon types.\")\n",
    "else:\n",
    "    print(\"Fail to reject the null hypothesis. There is no significant difference in Total stats between Pokémon types.\")"
   ]
  }
 ],
 "metadata": {
  "kernelspec": {
   "display_name": "Python 3",
   "language": "python",
   "name": "python3"
  },
  "language_info": {
   "codemirror_mode": {
    "name": "ipython",
    "version": 3
   },
   "file_extension": ".py",
   "mimetype": "text/x-python",
   "name": "python",
   "nbconvert_exporter": "python",
   "pygments_lexer": "ipython3",
   "version": "3.13.3"
  }
 },
 "nbformat": 4,
 "nbformat_minor": 2
}
